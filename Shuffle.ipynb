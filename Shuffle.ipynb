{
  "nbformat": 4,
  "nbformat_minor": 0,
  "metadata": {
    "colab": {
      "name": "Shuffle.ipynb",
      "provenance": [],
      "collapsed_sections": []
    },
    "kernelspec": {
      "name": "python3",
      "display_name": "Python 3"
    }
  },
  "cells": [
    {
      "cell_type": "code",
      "metadata": {
        "id": "NiL3pLIs4m4v",
        "colab_type": "code",
        "colab": {
          "base_uri": "https://localhost:8080/",
          "height": 50
        },
        "outputId": "19ae47a0-3d4a-490f-90b7-4f3199d388b2"
      },
      "source": [
        "\n",
        "import random \n",
        "\n",
        "def shuffle(card,n) : \n",
        "\n",
        "    for i in range(n): \n",
        "\n",
        "        r = i + (random.randint(0,n+3) % (n -i)) \n",
        "        tmp=card[i] \n",
        "        card[i]=card[r] \n",
        "        card[r]=tmp \n",
        "  \n",
        "  \n",
        "\n",
        "if __name__=='__main__': \n",
        "\n",
        "    Poker = [1, 2, 3, 4, 5, 6, 7, 8, 9, 10, 11, 12, 13,\n",
        "             1, 2, 3, 4, 5, 6, 7, 8, 9, 10, 11, 12, 13,\n",
        "             1, 2, 3, 4, 5, 6, 7, 8, 9, 10, 11, 12, 13,\n",
        "             1, 2, 3, 4, 5, 6, 7, 8, 9, 10, 11, 12, 13 ] \n",
        "\n",
        "    Spanish = [1, 2, 3, 4, 5, 6, 7, 8, 9, 10, 11, 12,\n",
        "                1, 2, 3, 4, 5, 6, 7, 8, 9, 10, 11, 12,\n",
        "                1, 2, 3, 4, 5, 6, 7, 8, 9, 10, 11, 12,\n",
        "                1, 2, 3, 4, 5, 6, 7, 8, 9, 10, 11, 12 ]  \n",
        "\n",
        "    shuffle(Poker,len(Poker)) \n",
        "    shuffle(Spanish,len(Spanish)) \n",
        "\n",
        "    print(Poker) \n",
        "    print(Spanish)\n",
        "\n",
        "\n",
        "\n"
      ],
      "execution_count": 19,
      "outputs": [
        {
          "output_type": "stream",
          "text": [
            "[4, 6, 6, 11, 2, 13, 1, 4, 7, 11, 13, 1, 11, 2, 8, 7, 2, 8, 7, 3, 8, 9, 6, 9, 4, 5, 12, 7, 12, 6, 3, 13, 10, 9, 1, 5, 3, 3, 13, 4, 2, 5, 10, 1, 10, 11, 5, 8, 10, 12, 9, 12]\n",
            "[5, 1, 8, 1, 11, 9, 4, 1, 3, 2, 5, 11, 4, 8, 10, 1, 9, 2, 4, 10, 7, 7, 12, 5, 10, 9, 11, 8, 8, 3, 6, 11, 2, 3, 7, 6, 12, 6, 4, 10, 7, 5, 12, 6, 2, 12, 3, 9]\n"
          ],
          "name": "stdout"
        }
      ]
    }
  ]
}